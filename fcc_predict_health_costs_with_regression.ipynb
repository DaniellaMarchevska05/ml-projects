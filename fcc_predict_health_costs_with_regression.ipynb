{
  "cells": [
    {
      "cell_type": "markdown",
      "metadata": {
        "id": "view-in-github",
        "colab_type": "text"
      },
      "source": [
        "<a href=\"https://colab.research.google.com/github/DaniellaMarchevska05/ml-projects/blob/main/fcc_predict_health_costs_with_regression.ipynb\" target=\"_parent\"><img src=\"https://colab.research.google.com/assets/colab-badge.svg\" alt=\"Open In Colab\"/></a>"
      ]
    },
    {
      "cell_type": "code",
      "execution_count": null,
      "metadata": {
        "id": "1rRo8oNqZ-Rj"
      },
      "outputs": [],
      "source": [
        "!pip install -q git+https://github.com/tensorflow/docs\n",
        "import matplotlib.pyplot as plt\n",
        "import numpy as np\n",
        "import pandas as pd\n",
        "import tensorflow as tf\n",
        "from tensorflow import keras\n",
        "from tensorflow.keras import layers\n",
        "import tensorflow_docs as tfdocs\n",
        "import tensorflow_docs.plots\n",
        "import tensorflow_docs.modeling"
      ]
    },
    {
      "cell_type": "code",
      "execution_count": null,
      "metadata": {
        "id": "CiX2FI4gZtTt"
      },
      "outputs": [],
      "source": [
        "# Import data\n",
        "!wget https://cdn.freecodecamp.org/project-data/health-costs/insurance.csv\n",
        "dataset = pd.read_csv(\"insurance.csv\")\n",
        "\n",
        "# Step 1: Preprocessing\n",
        "# Convert categorical data to numeric\n",
        "dataset['sex'] = dataset['sex'].map({'male': 0, 'female': 1})\n",
        "dataset['smoker'] = dataset['smoker'].map({'yes': 1, 'no': 0})\n",
        "dataset = pd.get_dummies(dataset, columns=['region'])\n",
        "dataset = dataset.astype(int)\n",
        "\n",
        "# Step 2: Split the dataset into training and testing sets\n",
        "train_dataset = dataset.sample(frac=0.8, random_state=42)\n",
        "test_dataset = dataset.drop(train_dataset.index)\n",
        "\n",
        "# Pop off the \"expenses\" column to create labels\n",
        "train_labels = train_dataset.pop(\"expenses\")\n",
        "test_labels = test_dataset.pop(\"expenses\")\n",
        "\n",
        "# Normalize the datasets\n",
        "train_stats = train_dataset.describe().transpose()\n",
        "def normalize(x):\n",
        "    return (x - train_stats[\"mean\"]) / train_stats[\"std\"]\n",
        "\n",
        "train_dataset = normalize(train_dataset)\n",
        "test_dataset = normalize(test_dataset)\n",
        "\n",
        "# Step 3: Build the model\n",
        "def build_model():\n",
        "    model = keras.Sequential([\n",
        "        layers.Dense(128, activation=\"relu\", input_shape=[len(train_dataset.keys())]),\n",
        "        layers.Dense(128, activation=\"relu\"),\n",
        "        layers.Dense(64, activation=\"relu\"),\n",
        "        layers.Dense(1)\n",
        "    ])\n",
        "\n",
        "    model.compile(\n",
        "        optimizer=tf.keras.optimizers.Adam(0.0005),\n",
        "        loss=\"mse\",\n",
        "        metrics=[\"mae\", \"mse\"]\n",
        "    )\n",
        "    return model\n",
        "\n",
        "model = build_model()\n",
        "\n",
        "# Step 4: Train the model\n",
        "early_stop = keras.callbacks.EarlyStopping(monitor=\"val_loss\", patience=10)\n",
        "history = model.fit(\n",
        "    train_dataset,\n",
        "    train_labels,\n",
        "    epochs=200,\n",
        "    validation_split=0.2,\n",
        "    verbose=0,\n",
        "    callbacks=[tfdocs.modeling.EpochDots(), early_stop]\n",
        ")\n"
      ]
    },
    {
      "cell_type": "code",
      "execution_count": null,
      "metadata": {
        "id": "LcopvQh3X-kX",
        "collapsed": true
      },
      "outputs": [],
      "source": []
    },
    {
      "cell_type": "code",
      "execution_count": null,
      "metadata": {
        "id": "Xe7RXH3N3CWU"
      },
      "outputs": [],
      "source": [
        "# RUN THIS CELL TO TEST YOUR MODEL. DO NOT MODIFY CONTENTS.\n",
        "# Test model by checking how well the model generalizes using the test set.\n",
        "loss, mae, mse = model.evaluate(test_dataset, test_labels, verbose=2)\n",
        "\n",
        "print(\"Testing set Mean Abs Error: {:5.2f} expenses\".format(mae))\n",
        "\n",
        "if mae < 3500:\n",
        "  print(\"You passed the challenge. Great job!\")\n",
        "else:\n",
        "  print(\"The Mean Abs Error must be less than 3500. Keep trying.\")\n",
        "\n",
        "# Plot predictions.\n",
        "test_predictions = model.predict(test_dataset).flatten()\n",
        "\n",
        "a = plt.axes(aspect='equal')\n",
        "plt.scatter(test_labels, test_predictions)\n",
        "plt.xlabel('True values (expenses)')\n",
        "plt.ylabel('Predictions (expenses)')\n",
        "lims = [0, 50000]\n",
        "plt.xlim(lims)\n",
        "plt.ylim(lims)\n",
        "_ = plt.plot(lims,lims)\n"
      ]
    }
  ],
  "metadata": {
    "colab": {
      "private_outputs": true,
      "provenance": [],
      "include_colab_link": true
    },
    "kernelspec": {
      "display_name": "Python 3",
      "name": "python3"
    }
  },
  "nbformat": 4,
  "nbformat_minor": 0
}