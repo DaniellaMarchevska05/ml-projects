{
  "cells": [
    {
      "cell_type": "code",
      "execution_count": null,
      "metadata": {
        "id": "8RZOuS9LWQvv",
        "collapsed": true
      },
      "outputs": [],
      "source": [
        "# import libraries\n",
        "try:\n",
        "  # %tensorflow_version only exists in Colab.\n",
        "  !pip install tf-nightly\n",
        "except Exception:\n",
        "  pass\n",
        "import tensorflow as tf\n",
        "import pandas as pd\n",
        "from tensorflow import keras\n",
        "!pip install tensorflow-datasets\n",
        "import tensorflow_datasets as tfds\n",
        "import numpy as np\n",
        "import matplotlib.pyplot as plt\n",
        "\n",
        "print(tf.__version__)"
      ]
    },
    {
      "cell_type": "code",
      "execution_count": null,
      "metadata": {
        "id": "lMHwYXHXCar3",
        "collapsed": true
      },
      "outputs": [],
      "source": [
        "# get data files\n",
        "!wget https://cdn.freecodecamp.org/project-data/sms/train-data.tsv\n",
        "!wget https://cdn.freecodecamp.org/project-data/sms/valid-data.tsv\n",
        "\n",
        "#Without specifying sep=\"\\t\", pandas would incorrectly assume a comma delimiter.\n",
        "#If header=None were omitted, pandas would incorrectly treat the first row as the header (column name)\n",
        "#To make the data easier to work with and more readable, we provide meaningful names (label and message) for the columns.\n",
        "train_dataset = pd.read_csv(\"train-data.tsv\", sep='\\t', header=None, names=['label','message'])\n",
        "test_dataset = pd.read_csv(\"valid-data.tsv\", sep='\\t', header=None, names=['label','message'])\n"
      ]
    },
    {
      "cell_type": "code",
      "execution_count": null,
      "metadata": {
        "id": "g_h508FEClxO"
      },
      "outputs": [],
      "source": [
        "from sklearn.feature_extraction.text import TfidfVectorizer\n",
        "from sklearn.linear_model import LogisticRegression\n",
        "\n",
        "vectorizer = TfidfVectorizer()\n",
        "\n",
        "#vectorizing mssgs using TF-IDF (text vectorization technique.Measures how unique or rare a word is across all documents. Common words like \"the\", \"is\", or \"and\" will have a low IDF score, while rare or important words will have a high IDF score.)\n",
        "train_vectors = vectorizer.fit_transform(train_dataset['message'])\n",
        "test_vectors = vectorizer.transform(test_dataset['message'])\n",
        "\n",
        "#Logistic Regression is a ml algorithm for classification problems. It predicts probabilities and maps them to classes (e.g., spam or ham).\n",
        "#create the model\n",
        "model = LogisticRegression()\n",
        "\n",
        "#train the model\n",
        "model.fit(train_vectors, train_dataset['label'])"
      ]
    },
    {
      "cell_type": "code",
      "execution_count": null,
      "metadata": {
        "id": "zOMKywn4zReN"
      },
      "outputs": [],
      "source": []
    },
    {
      "cell_type": "code",
      "execution_count": null,
      "metadata": {
        "id": "J9tD9yACG6M9"
      },
      "outputs": [],
      "source": [
        "# function to predict messages based on model\n",
        "# (should return list containing prediction and label, ex. [0.008318834938108921, 'ham'])\n",
        "def predict_message(pred_text):\n",
        "  pred_vector = vectorizer.transform([pred_text])\n",
        "\n",
        "  #model.predict would return 'ham'/'spam' but we need probabilities\n",
        "  #The predict_proba() method of LogisticRegression returns the probabilities for each class (e.g., \"ham\" and \"spam\") as list of lists [[p(ham), P(spam)], [P(ham),...]...] so [0] to access the first raw (1 message) and [1] to accces the prob of spam\n",
        "  prediction_proba = model.predict_proba(pred_vector)[0][1]\n",
        "\n",
        "  prediction_label = \"spam\" if prediction_proba>0.5 else \"ham\"\n",
        "  return [float(prediction_proba), prediction_label]\n",
        "\n",
        "#   if prediction>0.5:\n",
        "#     return [float(prediction), 'spam']\n",
        "#   else:\n",
        "#     return [float(prediction), 'ham']\n",
        "\n",
        "# pred_text = \"how are you doing today?\"\n",
        "\n",
        "prediction = predict_message(pred_text)\n",
        "print(prediction)"
      ]
    },
    {
      "cell_type": "code",
      "execution_count": null,
      "metadata": {
        "id": "Dxotov85SjsC"
      },
      "outputs": [],
      "source": [
        "# Run this cell to test your function and model. Do not modify contents.\n",
        "def test_predictions():\n",
        "  test_messages = [\"how are you doing today\",\n",
        "                   \"sale today! to stop texts call 98912460324\",\n",
        "                   \"i dont want to go. can we try it a different day? available sat\",\n",
        "                   \"our new mobile video service is live. just install on your phone to start watching.\",\n",
        "                   \"you have won £1000 cash! call to claim your prize.\",\n",
        "                   \"i'll bring it tomorrow. don't forget the milk.\",\n",
        "                   \"wow, is your arm alright. that happened to me one time too\"\n",
        "                  ]\n",
        "\n",
        "  test_answers = [\"ham\", \"spam\", \"ham\", \"spam\", \"spam\", \"ham\", \"ham\"]\n",
        "  passed = True\n",
        "\n",
        "  for msg, ans in zip(test_messages, test_answers):\n",
        "    prediction = predict_message(msg)\n",
        "    if prediction[1] != ans:\n",
        "      passed = False\n",
        "\n",
        "  if passed:\n",
        "    print(\"You passed the challenge. Great job!\")\n",
        "  else:\n",
        "    print(\"You haven't passed yet. Keep trying.\")\n",
        "\n",
        "test_predictions()\n"
      ]
    }
  ],
  "metadata": {
    "colab": {
      "private_outputs": true,
      "provenance": []
    },
    "kernelspec": {
      "display_name": "Python 3",
      "name": "python3"
    },
    "language_info": {}
  },
  "nbformat": 4,
  "nbformat_minor": 0
}